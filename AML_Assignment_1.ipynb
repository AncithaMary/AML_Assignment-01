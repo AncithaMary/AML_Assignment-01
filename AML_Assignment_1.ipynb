{
  "nbformat": 4,
  "nbformat_minor": 0,
  "metadata": {
    "colab": {
      "provenance": []
    },
    "kernelspec": {
      "name": "python3",
      "display_name": "Python 3"
    },
    "language_info": {
      "name": "python"
    }
  },
  "cells": [
    {
      "cell_type": "code",
      "execution_count": 1,
      "metadata": {
        "id": "daAbxzUQPXAj"
      },
      "outputs": [],
      "source": [
        "import numpy as np\n",
        "import pandas as pd\n",
        "\n",
        "from sklearn.model_selection import train_test_split\n",
        "from sklearn import datasets\n",
        "from sklearn.metrics import accuracy_score\n",
        "from sklearn.neighbors import NearestCentroid"
      ]
    },
    {
      "cell_type": "code",
      "source": [
        "iris = datasets.load_iris()\n",
        "df = pd.DataFrame(iris.data, columns=iris.feature_names)\n",
        "df['target'] = iris.target\n",
        "\n",
        "y = df.pop(\"target\").to_numpy()\n",
        "X = df.to_numpy()\n",
        "X_train, X_test, y_train, y_test = train_test_split(X, y, test_size = 0.2, shuffle = True, random_state = 0)"
      ],
      "metadata": {
        "id": "Wg6keFo0PeZQ"
      },
      "execution_count": 2,
      "outputs": []
    },
    {
      "cell_type": "code",
      "source": [
        "model_sk = NearestCentroid()\n",
        "model_sk.fit(X_train, y_train)\n",
        "y_pred = model_sk.predict(X_test)\n",
        "accuracy_score(y_test, y_pred)"
      ],
      "metadata": {
        "colab": {
          "base_uri": "https://localhost:8080/"
        },
        "id": "3Mzl62O8PeWF",
        "outputId": "8994616b-6e50-4702-8bc1-67d23a59ba1a"
      },
      "execution_count": 3,
      "outputs": [
        {
          "output_type": "execute_result",
          "data": {
            "text/plain": [
              "0.9"
            ]
          },
          "metadata": {},
          "execution_count": 3
        }
      ]
    },
    {
      "cell_type": "code",
      "source": [
        "class MyNearestCentroid:\n",
        "    def fit(self, X, y):\n",
        "        self.labels = np.unique(y)\n",
        "        self.centroids = []\n",
        "        for lbl in self.labels:\n",
        "            y_lbl = y[y==lbl]\n",
        "            X_lbl = X[y==lbl]\n",
        "            centroid = np.mean(X_lbl, axis=0)\n",
        "            self.centroids.append(centroid)\n",
        "\n",
        "    \"\"\"\n",
        "        prediction with traditional nested loop\n",
        "        This function has a sneaky bug that prevents it from working as expected.\n",
        "        Identify & fix the bug & ping me your answers. This is first part of AML assignment 1\n",
        "    \"\"\"\n",
        "    def predict(self, X):\n",
        "      num_records = X.shape[0]\n",
        "      y_pred_distances = np.empty((num_records, len(self.labels)))\n",
        "\n",
        "      for i in np.arange(0, num_records):\n",
        "        for j, centroid in enumerate(self.centroids.values()):  # Fix 1: Use self.centroids.values() to iterate through centroids\n",
        "            y_pred_distances[i, j] = np.linalg.norm(X[i] - centroid)  # Fix 2: Remove [j] after centroid\n",
        "\n",
        "      y_pred = np.argmin(y_pred_distances, axis=1)\n",
        "      return y_pred\n",
        "\n",
        "\n",
        "    \"\"\"\n",
        "        TODO: Add vectorized code to do prediction\n",
        "        This is second part of AML assignment 1\n",
        "    \"\"\"\n",
        "    def predict(self, X):\n",
        "      num_records = X.shape[0]\n",
        "      y_pred_distances = np.empty((num_records, len(self.labels)))\n",
        "\n",
        "      for j, label in enumerate(self.labels):\n",
        "        centroid = self.centroids[label]\n",
        "        y_pred_distances[:, j] = np.linalg.norm(X - centroid, axis=1)\n",
        "\n",
        "      y_pred = np.argmin(y_pred_distances, axis=1)\n",
        "      return y_pred"
      ],
      "metadata": {
        "id": "CrSHbYB0PeTl"
      },
      "execution_count": 4,
      "outputs": []
    },
    {
      "cell_type": "code",
      "source": [
        "    #def predict(self, X):\n",
        "        #num_records = X.shape[0]\n",
        "        #y_pred_distances = np.empty((num_records, len(self.labels)))\n",
        "        #for i in np.arange(0,num_records):\n",
        "            #for j, centroid in enumerate(self.centroids):\n",
        "                #y_pred_distances[i, j] = np.linalg.norm(X[i] - centroid[j], axis=0)\n",
        "\n",
        "        #y_pred =  np.argmin(y_pred_distances, axis=1)\n",
        "        #return y_pred\n",
        ""
      ],
      "metadata": {
        "id": "xoCf_E1vPeRX"
      },
      "execution_count": null,
      "outputs": []
    },
    {
      "cell_type": "code",
      "source": [
        "mymodel = MyNearestCentroid()\n",
        "mymodel.fit(X_train, y_train)\n",
        "\n",
        "print(mymodel.labels)\n",
        "mymodel.centroids"
      ],
      "metadata": {
        "colab": {
          "base_uri": "https://localhost:8080/"
        },
        "id": "ZpkFx3p8PePP",
        "outputId": "910e41e6-4e97-4f8c-979d-3da9367dd257"
      },
      "execution_count": 5,
      "outputs": [
        {
          "output_type": "stream",
          "name": "stdout",
          "text": [
            "[0 1 2]\n"
          ]
        },
        {
          "output_type": "execute_result",
          "data": {
            "text/plain": [
              "[array([5.02051282, 3.4025641 , 1.46153846, 0.24102564]),\n",
              " array([5.88648649, 2.76216216, 4.21621622, 1.32432432]),\n",
              " array([6.63863636, 2.98863636, 5.56590909, 2.03181818])]"
            ]
          },
          "metadata": {},
          "execution_count": 5
        }
      ]
    },
    {
      "cell_type": "code",
      "source": [
        "y_test"
      ],
      "metadata": {
        "colab": {
          "base_uri": "https://localhost:8080/"
        },
        "id": "Y9OoY6KRP3uG",
        "outputId": "0cef7d6f-200e-4b82-a71f-06b8c86c5b44"
      },
      "execution_count": 6,
      "outputs": [
        {
          "output_type": "execute_result",
          "data": {
            "text/plain": [
              "array([2, 1, 0, 2, 0, 2, 0, 1, 1, 1, 2, 1, 1, 1, 1, 0, 1, 1, 0, 0, 2, 1,\n",
              "       0, 0, 2, 0, 0, 1, 1, 0])"
            ]
          },
          "metadata": {},
          "execution_count": 6
        }
      ]
    },
    {
      "cell_type": "code",
      "source": [
        "y_pred = mymodel.predict(X_test)\n",
        "accuracy_score(y_test, y_pred)"
      ],
      "metadata": {
        "colab": {
          "base_uri": "https://localhost:8080/"
        },
        "id": "5CPeY30bP7_L",
        "outputId": "81e6a919-c3f6-4aa6-fa06-5c07b4895c2e"
      },
      "execution_count": 7,
      "outputs": [
        {
          "output_type": "execute_result",
          "data": {
            "text/plain": [
              "0.9"
            ]
          },
          "metadata": {},
          "execution_count": 7
        }
      ]
    }
  ]
}